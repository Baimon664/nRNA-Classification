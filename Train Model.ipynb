{
 "cells": [
  {
   "cell_type": "code",
   "execution_count": 1,
   "id": "4f44b165",
   "metadata": {},
   "outputs": [],
   "source": [
    "import tensorflow as tf\n",
    "from tensorflow import keras\n",
    "from tensorflow.keras import layers\n",
    "import numpy as np"
   ]
  },
  {
   "cell_type": "code",
   "execution_count": 2,
   "id": "ef107e26",
   "metadata": {},
   "outputs": [
    {
     "name": "stdout",
     "output_type": "stream",
     "text": [
      "Model: \"model\"\n",
      "_________________________________________________________________\n",
      "Layer (type)                 Output Shape              Param #   \n",
      "=================================================================\n",
      "digits (InputLayer)          [(None, 198, 3)]          0         \n",
      "_________________________________________________________________\n",
      "conv1d (Conv1D)              (None, 196, 64)           640       \n",
      "_________________________________________________________________\n",
      "flatten (Flatten)            (None, 12544)             0         \n",
      "_________________________________________________________________\n",
      "dropout (Dropout)            (None, 12544)             0         \n",
      "_________________________________________________________________\n",
      "dense_1 (Dense)              (None, 951)               11930295  \n",
      "_________________________________________________________________\n",
      "dropout_1 (Dropout)          (None, 951)               0         \n",
      "_________________________________________________________________\n",
      "dense_2 (Dense)              (None, 951)               905352    \n",
      "_________________________________________________________________\n",
      "dropout_2 (Dropout)          (None, 951)               0         \n",
      "_________________________________________________________________\n",
      "dense_3 (Dense)              (None, 951)               905352    \n",
      "_________________________________________________________________\n",
      "predictions (Dense)          (None, 951)               905352    \n",
      "=================================================================\n",
      "Total params: 14,646,991\n",
      "Trainable params: 14,646,991\n",
      "Non-trainable params: 0\n",
      "_________________________________________________________________\n",
      "None\n"
     ]
    }
   ],
   "source": [
    "inputs = keras.Input(shape=(198,3), name=\"digits\")\n",
    "x = layers.Conv1D(filters=64, kernel_size=3, activation='relu')(inputs)\n",
    "x = layers.Flatten()(x)\n",
    "x = layers.Dropout(.5)(x)\n",
    "x = layers.Dense(951, activation=\"relu\", name=\"dense_1\")(x)  # 951\n",
    "x = layers.Dropout(.5)(x)\n",
    "x = layers.Dense(951, activation=\"relu\", name=\"dense_2\")(x) # 951 v6:500\n",
    "x = layers.Dropout(.5)(x)\n",
    "x = layers.Dense(951, activation=\"relu\", name=\"dense_3\")(x) # 951 v6:500\n",
    "outputs = layers.Dense(951, activation=\"softmax\", name=\"predictions\")(x)\n",
    "\n",
    "model = keras.Model(inputs=inputs, outputs=outputs)\n",
    "\n",
    "print(model.summary())"
   ]
  },
  {
   "cell_type": "code",
   "execution_count": 3,
   "id": "f39f64e2",
   "metadata": {},
   "outputs": [],
   "source": [
    "x_train=np.load(\"3-mer.npy\")\n",
    "x_test = np.load(\"3-mer_test.npy\")\n",
    "names=open(\"npy_2/name.txt\",'r')\n",
    "y=[]\n",
    "y_e=[]\n",
    "p=0\n",
    "for i in names.readlines():\n",
    "  j=[float(p)]*100\n",
    "  q=[float(p)]*20\n",
    "  y+=j\n",
    "  y_e+=q\n",
    "  p+=1\n",
    "names.close()\n",
    "y_train = np.array(y).reshape((95100,1)).astype(\"float32\")\n",
    "y_test = np.array(y_e).reshape((19020,1)).astype(\"float32\")\n",
    "x_train = x_train.astype(\"float32\")/4\n",
    "x_test = x_test.astype(\"float32\")/4"
   ]
  },
  {
   "cell_type": "code",
   "execution_count": 4,
   "id": "8274b3cd",
   "metadata": {},
   "outputs": [],
   "source": [
    "model.compile(\n",
    "    optimizer=keras.optimizers.SGD(learning_rate=0.05, momentum=0.1, nesterov=False, name=\"SGD\"),\n",
    "    loss = tf.keras.losses.SparseCategoricalCrossentropy(from_logits=False,name='sparse_categorical_crossentropy'),\n",
    "    metrics=['accuracy'],\n",
    ")"
   ]
  },
  {
   "cell_type": "code",
   "execution_count": 5,
   "id": "d1a70b30",
   "metadata": {},
   "outputs": [
    {
     "name": "stdout",
     "output_type": "stream",
     "text": [
      "Fit model on training data\n",
      "Epoch 1/25\n",
      "743/743 [==============================] - 15s 12ms/step - loss: 6.7499 - accuracy: 0.0018 - val_loss: 6.3494 - val_accuracy: 0.0033\n",
      "Epoch 2/25\n",
      "743/743 [==============================] - 9s 12ms/step - loss: 5.8470 - accuracy: 0.0083 - val_loss: 5.3153 - val_accuracy: 0.0160\n",
      "Epoch 3/25\n",
      "743/743 [==============================] - 8s 11ms/step - loss: 5.2518 - accuracy: 0.0192 - val_loss: 4.9940 - val_accuracy: 0.0387\n",
      "Epoch 4/25\n",
      "743/743 [==============================] - 9s 12ms/step - loss: 4.8367 - accuracy: 0.0553 - val_loss: 4.2590 - val_accuracy: 0.1721\n",
      "Epoch 5/25\n",
      "743/743 [==============================] - 9s 12ms/step - loss: 3.7873 - accuracy: 0.2252 - val_loss: 2.6635 - val_accuracy: 0.4890\n",
      "Epoch 6/25\n",
      "743/743 [==============================] - 9s 11ms/step - loss: 2.4646 - accuracy: 0.4815 - val_loss: 1.6932 - val_accuracy: 0.6880\n",
      "Epoch 7/25\n",
      "743/743 [==============================] - 8s 11ms/step - loss: 1.7483 - accuracy: 0.6304 - val_loss: 1.3538 - val_accuracy: 0.7534\n",
      "Epoch 8/25\n",
      "743/743 [==============================] - 8s 11ms/step - loss: 1.3909 - accuracy: 0.7036 - val_loss: 1.1700 - val_accuracy: 0.7897\n",
      "Epoch 9/25\n",
      "743/743 [==============================] - 8s 11ms/step - loss: 1.1805 - accuracy: 0.7450 - val_loss: 1.0689 - val_accuracy: 0.8126\n",
      "Epoch 10/25\n",
      "743/743 [==============================] - 8s 11ms/step - loss: 1.0270 - accuracy: 0.7778 - val_loss: 0.9907 - val_accuracy: 0.8265\n",
      "Epoch 11/25\n",
      "743/743 [==============================] - 8s 11ms/step - loss: 0.9291 - accuracy: 0.7964 - val_loss: 0.9478 - val_accuracy: 0.8398\n",
      "Epoch 12/25\n",
      "743/743 [==============================] - 8s 11ms/step - loss: 0.8505 - accuracy: 0.8129 - val_loss: 0.9122 - val_accuracy: 0.8462\n",
      "Epoch 13/25\n",
      "743/743 [==============================] - 8s 11ms/step - loss: 0.7800 - accuracy: 0.8262 - val_loss: 0.8722 - val_accuracy: 0.8540\n",
      "Epoch 14/25\n",
      "743/743 [==============================] - 8s 11ms/step - loss: 0.7267 - accuracy: 0.8368 - val_loss: 0.8654 - val_accuracy: 0.8553\n",
      "Epoch 15/25\n",
      "743/743 [==============================] - 8s 11ms/step - loss: 0.6770 - accuracy: 0.8472 - val_loss: 0.8407 - val_accuracy: 0.8605\n",
      "Epoch 16/25\n",
      "743/743 [==============================] - 8s 11ms/step - loss: 0.6360 - accuracy: 0.8546 - val_loss: 0.8231 - val_accuracy: 0.8637\n",
      "Epoch 17/25\n",
      "743/743 [==============================] - 8s 11ms/step - loss: 0.6030 - accuracy: 0.8614 - val_loss: 0.8110 - val_accuracy: 0.8657\n",
      "Epoch 18/25\n",
      "743/743 [==============================] - 8s 11ms/step - loss: 0.5683 - accuracy: 0.8682 - val_loss: 0.8024 - val_accuracy: 0.8692\n",
      "Epoch 19/25\n",
      "743/743 [==============================] - 8s 11ms/step - loss: 0.5339 - accuracy: 0.8743 - val_loss: 0.7988 - val_accuracy: 0.8727\n",
      "Epoch 20/25\n",
      "743/743 [==============================] - 8s 11ms/step - loss: 0.5090 - accuracy: 0.8791 - val_loss: 0.7823 - val_accuracy: 0.8759\n",
      "Epoch 21/25\n",
      "743/743 [==============================] - 8s 11ms/step - loss: 0.4814 - accuracy: 0.8837 - val_loss: 0.7840 - val_accuracy: 0.8771\n",
      "Epoch 22/25\n",
      "743/743 [==============================] - 8s 11ms/step - loss: 0.4589 - accuracy: 0.8879 - val_loss: 0.7718 - val_accuracy: 0.8813\n",
      "Epoch 23/25\n",
      "743/743 [==============================] - 8s 11ms/step - loss: 0.4374 - accuracy: 0.8927 - val_loss: 0.7716 - val_accuracy: 0.8821\n",
      "Epoch 24/25\n",
      "743/743 [==============================] - 8s 11ms/step - loss: 0.4167 - accuracy: 0.8964 - val_loss: 0.7625 - val_accuracy: 0.8825\n",
      "Epoch 25/25\n",
      "743/743 [==============================] - 8s 11ms/step - loss: 0.3985 - accuracy: 0.9003 - val_loss: 0.7711 - val_accuracy: 0.8843\n"
     ]
    }
   ],
   "source": [
    "print(\"Fit model on training data\")\n",
    "\n",
    "history = model.fit(\n",
    "    x_train,\n",
    "    y_train,\n",
    "    batch_size=128,\n",
    "    epochs=25,\n",
    "    shuffle = True,\n",
    "    validation_data=(x_test, y_test),\n",
    ")"
   ]
  },
  {
   "cell_type": "code",
   "execution_count": 6,
   "id": "38676a30",
   "metadata": {},
   "outputs": [],
   "source": [
    "model.save(\"my_model_v7.h5\")"
   ]
  },
  {
   "cell_type": "code",
   "execution_count": 7,
   "id": "5d65b7f5",
   "metadata": {},
   "outputs": [],
   "source": [
    "model = keras.models.load_model(\"my_model_v7.h5\")\n",
    "\n",
    "def QMer(seq):\n",
    "    q=3\n",
    "    data = []\n",
    "    for i in range(len(seq)-(q-1)):\n",
    "        data.append(list(seq[i:i+q]))\n",
    "    return data"
   ]
  },
  {
   "cell_type": "code",
   "execution_count": 8,
   "id": "33295df2",
   "metadata": {},
   "outputs": [
    {
     "name": "stdout",
     "output_type": "stream",
     "text": [
      "RNA:GTTTCAATCCCCTCGCGGGGATTTTGGTTTTTTGAAG\n",
      "RF01334\n"
     ]
    }
   ],
   "source": [
    "rna = input(\"RNA:\").strip()\n",
    "p=[]\n",
    "for i in rna:\n",
    "    k=0\n",
    "    if(i==\"A\"):\n",
    "        k=1\n",
    "    elif(i=='U' or i==\"T\"):\n",
    "        k=2\n",
    "    elif(i=='C'):\n",
    "        k=3\n",
    "    elif(i=='G'):\n",
    "        k=4\n",
    "    else:\n",
    "        k=0\n",
    "    p.append(k)\n",
    "p=p+[0]*(200-len(p))\n",
    "p=QMer(p)\n",
    "b=np.array(p)\n",
    "b=b.reshape((1,198,3))/4\n",
    "names=open(\"npy_2/name.txt\",'r')\n",
    "t=model.predict(b)\n",
    "t1=np.argmax(t)\n",
    "o = names.readlines()\n",
    "pred = o[t1][:-5]\n",
    "print(pred)\n",
    "names.close()"
   ]
  },
  {
   "cell_type": "code",
   "execution_count": null,
   "id": "ef48c4f5",
   "metadata": {},
   "outputs": [],
   "source": []
  }
 ],
 "metadata": {
  "kernelspec": {
   "display_name": "Python 3 (ipykernel)",
   "language": "python",
   "name": "python3"
  },
  "language_info": {
   "codemirror_mode": {
    "name": "ipython",
    "version": 3
   },
   "file_extension": ".py",
   "mimetype": "text/x-python",
   "name": "python",
   "nbconvert_exporter": "python",
   "pygments_lexer": "ipython3",
   "version": "3.9.6"
  }
 },
 "nbformat": 4,
 "nbformat_minor": 5
}
